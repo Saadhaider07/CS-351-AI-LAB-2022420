{
  "nbformat": 4,
  "nbformat_minor": 0,
  "metadata": {
    "colab": {
      "provenance": []
    },
    "kernelspec": {
      "name": "python3",
      "display_name": "Python 3"
    },
    "language_info": {
      "name": "python"
    }
  },
  "cells": [
    {
      "cell_type": "code",
      "execution_count": null,
      "metadata": {
        "id": "JrmuJ14x0MKp"
      },
      "outputs": [],
      "source": []
    },
    {
      "cell_type": "markdown",
      "source": [
        "**Name :** Muhammad Saad Ullah Khan Haidri\n",
        "\n",
        "**Reg no:** 2022420\n",
        "\n",
        "**Faculty :** Cyber Security\n",
        "\n",
        "**Lab 4 Task**\n",
        "\n",
        "**Part 1: Data Exploration and Preprocessing**\n",
        "\n",
        "Load the dataset:\n",
        "\n",
        "\n",
        "\n"
      ],
      "metadata": {
        "id": "KfSbR9-P0M0w"
      }
    },
    {
      "cell_type": "code",
      "source": [
        "import pandas as pd\n",
        "import numpy as np\n",
        "import seaborn as sns\n",
        "import matplotlib.pyplot as plt\n",
        "\n",
        "# Load the Titanic dataset\n",
        "titanic_data = pd.read_csv('train.csv')\n",
        "\n",
        "# Display the first few rows of the dataset\n",
        "print(titanic_data.head())\n"
      ],
      "metadata": {
        "id": "pDG7exkn02C7"
      },
      "execution_count": null,
      "outputs": []
    },
    {
      "cell_type": "markdown",
      "source": [
        "**Explore the dataset:**\n",
        "\n",
        "You can check the distribution of the key features and visualize the data using seaborn or matplotlib:\n"
      ],
      "metadata": {
        "id": "E5kNlD0303Su"
      }
    },
    {
      "cell_type": "code",
      "source": [
        "# Visualize distribution of key features\n",
        "sns.countplot(data=titanic_data, x='Pclass')\n",
        "plt.show()\n",
        "\n",
        "sns.histplot(data=titanic_data, x='Age', kde=True)\n",
        "plt.show()\n",
        "\n",
        "sns.countplot(data=titanic_data, x='Sex')\n",
        "plt.show()\n"
      ],
      "metadata": {
        "id": "bfpLyv-y1Eaz"
      },
      "execution_count": null,
      "outputs": []
    },
    {
      "cell_type": "markdown",
      "source": [
        "**Check for missing values:**\n",
        "\n",
        "Use the following to see if there are any missing values"
      ],
      "metadata": {
        "id": "V1xMGb6j1FSn"
      }
    },
    {
      "cell_type": "code",
      "source": [
        "print(titanic_data.isnull().sum())\n"
      ],
      "metadata": {
        "id": "jCE4bXAN1PTT"
      },
      "execution_count": null,
      "outputs": []
    },
    {
      "cell_type": "markdown",
      "source": [
        "**Data Preprocessing:**\n",
        "\n",
        "Handle missing values:\n",
        "\n"
      ],
      "metadata": {
        "id": "nvwChxYs1RmL"
      }
    },
    {
      "cell_type": "code",
      "source": [
        "# Fill missing age values with median\n",
        "titanic_data['Age'].fillna(titanic_data['Age'].median(), inplace=True)\n",
        "\n",
        "# Drop rows with missing Embarked values\n",
        "titanic_data.dropna(subset=['Embarked'], inplace=True)\n"
      ],
      "metadata": {
        "id": "Lw2U4SI31cll"
      },
      "execution_count": null,
      "outputs": []
    },
    {
      "cell_type": "markdown",
      "source": [
        "**Encode categorical variables:**\n"
      ],
      "metadata": {
        "id": "LNVBBBsz1e_r"
      }
    },
    {
      "cell_type": "code",
      "source": [
        "# Convert 'Sex' to numerical values\n",
        "titanic_data['Sex'] = titanic_data['Sex'].map({'male': 0, 'female': 1})\n",
        "\n",
        "# Convert 'Embarked' to numerical values\n",
        "titanic_data['Embarked'] = titanic_data['Embarked'].map({'S': 0, 'C': 1, 'Q': 2})\n"
      ],
      "metadata": {
        "id": "NFGGsNZW1oDW"
      },
      "execution_count": null,
      "outputs": []
    },
    {
      "cell_type": "markdown",
      "source": [
        "**Normalize numerical features:**"
      ],
      "metadata": {
        "id": "cJ9ZcBQI1q8l"
      }
    },
    {
      "cell_type": "code",
      "source": [
        "from sklearn.preprocessing import StandardScaler\n",
        "\n",
        "scaler = StandardScaler()\n",
        "titanic_data[['Age', 'Fare']] = scaler.fit_transform(titanic_data[['Age', 'Fare']])\n"
      ],
      "metadata": {
        "id": "jcRYmSEv1vnh"
      },
      "execution_count": null,
      "outputs": []
    },
    {
      "cell_type": "markdown",
      "source": [
        "**Part 2: Implementing k-NN and Decision Trees**\n",
        "\n",
        "**Model Training:**\n",
        "\n",
        "Split the dataset:\n",
        "\n",
        "Separate features (X) and target variable (Survived) and split the data into training and test sets.\n",
        "\n"
      ],
      "metadata": {
        "id": "9t7duRZr1zF9"
      }
    },
    {
      "cell_type": "code",
      "source": [
        "from sklearn.model_selection import train_test_split\n",
        "\n",
        "X = titanic_data[['Pclass', 'Sex', 'Age', 'Fare', 'Embarked']]\n",
        "y = titanic_data['Survived']\n",
        "\n",
        "X_train, X_test, y_train, y_test = train_test_split(X, y, test_size=0.3, random_state=42)\n"
      ],
      "metadata": {
        "id": "-Ieq4FWO2AJd"
      },
      "execution_count": null,
      "outputs": []
    },
    {
      "cell_type": "markdown",
      "source": [
        "**k-NN Algorithm:**"
      ],
      "metadata": {
        "id": "ZF5sPu-K2Dzs"
      }
    },
    {
      "cell_type": "code",
      "source": [
        "from sklearn.neighbors import KNeighborsClassifier\n",
        "\n",
        "# Initialize the k-NN model\n",
        "knn = KNeighborsClassifier(n_neighbors=5)\n",
        "knn.fit(X_train, y_train)\n",
        "\n",
        "# Predict using k-NN\n",
        "y_pred_knn = knn.predict(X_test)\n"
      ],
      "metadata": {
        "id": "HEG3dY0I2Km_"
      },
      "execution_count": null,
      "outputs": []
    },
    {
      "cell_type": "markdown",
      "source": [
        "**Decision Tree Algorithm:**"
      ],
      "metadata": {
        "id": "YXolNHJJ2LmU"
      }
    },
    {
      "cell_type": "code",
      "source": [
        "from sklearn.tree import DecisionTreeClassifier\n",
        "\n",
        "# Initialize Decision Tree model\n",
        "dt = DecisionTreeClassifier()\n",
        "dt.fit(X_train, y_train)\n",
        "\n",
        "# Predict using Decision Tree\n",
        "y_pred_dt = dt.predict(X_test)\n"
      ],
      "metadata": {
        "id": "9Q2qoUQO2P2-"
      },
      "execution_count": null,
      "outputs": []
    },
    {
      "cell_type": "markdown",
      "source": [
        "**Model Evaluation:**"
      ],
      "metadata": {
        "id": "VoyLXGyM2S7z"
      }
    },
    {
      "cell_type": "code",
      "source": [
        "from sklearn.metrics import accuracy_score, precision_score, recall_score, f1_score\n",
        "\n",
        "def evaluate_model(y_test, y_pred, model_name):\n",
        "    print(f\"Performance of {model_name}:\")\n",
        "    print(f\"Accuracy: {accuracy_score(y_test, y_pred):.2f}\")\n",
        "    print(f\"Precision: {precision_score(y_test, y_pred):.2f}\")\n",
        "    print(f\"Recall: {recall_score(y_test, y_pred):.2f}\")\n",
        "    print(f\"F1 Score: {f1_score(y_test, y_pred):.2f}\")\n",
        "\n",
        "# Evaluate k-NN\n",
        "evaluate_model(y_test, y_pred_knn, \"k-NN\")\n",
        "\n",
        "# Evaluate Decision Tree\n",
        "evaluate_model(y_test, y_pred_dt, \"Decision Tree\")\n"
      ],
      "metadata": {
        "id": "9aM93FH-2b4s"
      },
      "execution_count": null,
      "outputs": []
    },
    {
      "cell_type": "markdown",
      "source": [
        "**Part 3: Visualization**\n",
        "\n",
        "Decision Boundaries:\n",
        "\n",
        "You can visualize decision boundaries by selecting two features (e.g., Age and Fare) and plotting the decision boundaries for both k-NN and Decision Tree.\n"
      ],
      "metadata": {
        "id": "FKJ3ae0B2fcZ"
      }
    },
    {
      "cell_type": "code",
      "source": [
        "import numpy as np\n",
        "from matplotlib.colors import ListedColormap\n",
        "\n",
        "def plot_decision_boundaries(X, y, model, title):\n",
        "    h = 0.02\n",
        "    x_min, x_max = X.iloc[:, 0].min() - 1, X.iloc[:, 0].max() + 1\n",
        "    y_min, y_max = X.iloc[:, 1].min() - 1, X.iloc[:, 1].max() + 1\n",
        "    xx, yy = np.meshgrid(np.arange(x_min, x_max, h), np.arange(y_min, y_max, h))\n",
        "    Z = model.predict(np.c_[xx.ravel(), yy.ravel()])\n",
        "    Z = Z.reshape(xx.shape)\n",
        "\n",
        "    plt.contourf(xx, yy, Z, cmap=ListedColormap(('red', 'green')), alpha=0.8)\n",
        "    plt.scatter(X.iloc[:, 0], X.iloc[:, 1], c=y, edgecolors='k', cmap=ListedColormap(('red', 'green')))\n",
        "    plt.title(title)\n",
        "    plt.show()\n",
        "\n",
        "# Plot decision boundaries for k-NN\n",
        "plot_decision_boundaries(X_test[['Age', 'Fare']], y_test, knn, 'k-NN Decision Boundaries')\n",
        "\n",
        "# Plot decision boundaries for Decision Tree\n",
        "plot_decision_boundaries(X_test[['Age', 'Fare']], y_test, dt, 'Decision Tree Decision Boundaries')\n",
        "\n",
        "metrics = ['Accuracy', 'Precision', 'Recall', 'F1-Score']\n",
        "knn_scores = [accuracy_score(y_test, y_pred_knn), precision_score(y_test, y_pred_knn), recall_score(y_test, y_pred_knn), f1_score(y_test, y_pred_knn)]\n",
        "dt_scores = [accuracy_score(y_test, y_pred_dt), precision_score(y_test, y_pred_dt), recall_score(y_test, y_pred_dt), f1_score(y_test, y_pred_dt)]\n",
        "\n",
        "# Bar chart to compare metrics\n",
        "fig, ax = plt.subplots()\n",
        "index = np.arange(len(metrics))\n",
        "bar_width = 0.35\n",
        "opacity = 0.8\n",
        "\n",
        "rects1 = plt.bar(index, knn_scores, bar_width, alpha=opacity, color='b', label='k-NN')\n",
        "rects2 = plt.bar(index + bar_width, dt_scores, bar_width, alpha=opacity, color='g', label='Decision Tree')\n",
        "\n",
        "plt.xlabel('Metrics')\n",
        "plt.ylabel('Scores')\n",
        "plt.title('Model Performance Comparison')\n",
        "plt.xticks(index + bar_width/2, metrics)\n",
        "plt.legend()\n",
        "plt.tight_layout()\n",
        "plt.show()\n"
      ],
      "metadata": {
        "id": "QNz940kP2mDP"
      },
      "execution_count": null,
      "outputs": []
    }
  ]
}